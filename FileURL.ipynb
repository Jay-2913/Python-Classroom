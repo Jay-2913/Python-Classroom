{
 "cells": [
  {
   "cell_type": "code",
   "execution_count": 1,
   "id": "428343f3-c226-455d-a59f-749a5b6bfa2c",
   "metadata": {},
   "outputs": [],
   "source": [
    "import tkinter as tk\n",
    "from tkinter import messagebox\n",
    "import requests\n"
   ]
  },
  {
   "cell_type": "code",
   "execution_count": 2,
   "id": "1f06a4ae-0c25-48e5-84b0-0f52a6ed3c06",
   "metadata": {},
   "outputs": [
    {
     "data": {
      "text/plain": [
       "''"
      ]
     },
     "execution_count": 2,
     "metadata": {},
     "output_type": "execute_result"
    }
   ],
   "source": [
    "root = tk.Tk()\n",
    "root.title(\"File Downloader\")\n",
    "root.geometry(\"400x200\")\n"
   ]
  },
  {
   "cell_type": "code",
   "execution_count": 3,
   "id": "8067fad9-cab1-48b9-916c-654ab1aa244b",
   "metadata": {},
   "outputs": [],
   "source": [
    "# Label for URL input\n",
    "url_label = tk.Label(root, text=\"Enter URL:\")\n",
    "url_label.pack(pady=10)\n",
    "\n",
    "# Entry field for URL input\n",
    "url_entry = tk.Entry(root, width=50)\n",
    "url_entry.pack(pady=5)\n",
    "\n",
    "# Download button\n",
    "download_button = tk.Button(root, text=\"Download\", command=lambda: download_file(url_entry.get()))\n",
    "download_button.pack(pady=20)\n"
   ]
  },
  {
   "cell_type": "code",
   "execution_count": 4,
   "id": "76da5f03-7e7e-45af-ad0b-ac04cfad68d6",
   "metadata": {},
   "outputs": [],
   "source": [
    "def download_file(url):\n",
    "    if not url:\n",
    "        messagebox.showerror(\"Error\", \"URL cannot be empty\")\n",
    "        return\n",
    "\n",
    "    try:\n",
    "        response = requests.get(url)\n",
    "        response.raise_for_status()\n",
    "\n",
    "        filename = url.split(\"/\")[-1]\n",
    "        with open(filename, \"wb\") as file:\n",
    "            file.write(response.content)\n",
    "\n",
    "        messagebox.showinfo(\"Success\", f\"File downloaded: {filename}\")\n",
    "    except requests.exceptions.RequestException as e:\n",
    "        messagebox.showerror(\"Error\", f\"Failed to download file: {e}\")\n"
   ]
  },
  {
   "cell_type": "code",
   "execution_count": 5,
   "id": "be9b5b4e-053c-4002-a012-1b3eb05e59ee",
   "metadata": {},
   "outputs": [],
   "source": [
    "root.mainloop()\n"
   ]
  },
  {
   "cell_type": "code",
   "execution_count": null,
   "id": "02a8060c-c45a-4936-accf-655d3a4576c9",
   "metadata": {},
   "outputs": [],
   "source": [
    "import tkinter as tk\n",
    "from tkinter import messagebox\n",
    "import requests\n",
    "\n",
    "def download_file(url):\n",
    "    if not url:\n",
    "        messagebox.showerror(\"Error\", \"URL cannot be empty\")\n",
    "        return\n",
    "\n",
    "    try:\n",
    "        response = requests.get(url)\n",
    "        response.raise_for_status()\n",
    "\n",
    "        filename = url.split(\"/\")[-1]\n",
    "        with open(filename, \"wb\") as file:\n",
    "            file.write(response.content)\n",
    "\n",
    "        messagebox.showinfo(\"Success\", f\"File downloaded: {filename}\")\n",
    "    except requests.exceptions.RequestException as e:\n",
    "        messagebox.showerror(\"Error\", f\"Failed to download file: {e}\")\n",
    "\n",
    "root = tk.Tk()\n",
    "root.title(\"File Downloader\")\n",
    "root.geometry(\"400x200\")\n",
    "\n",
    "url_label = tk.Label(root, text=\"Enter URL:\")\n",
    "url_label.pack(pady=10)\n",
    "\n",
    "url_entry = tk.Entry(root, width=50)\n",
    "url_entry.pack(pady=5)\n",
    "\n",
    "download_button = tk.Button(root, text=\"Download\", command=lambda: download_file(url_entry.get()))\n",
    "download_button.pack(pady=20)\n",
    "\n",
    "root.mainloop()\n"
   ]
  },
  {
   "cell_type": "code",
   "execution_count": null,
   "id": "3675446e-b0e3-48f7-914f-e0868735afe5",
   "metadata": {},
   "outputs": [],
   "source": []
  }
 ],
 "metadata": {
  "kernelspec": {
   "display_name": "Python 3 (ipykernel)",
   "language": "python",
   "name": "python3"
  },
  "language_info": {
   "codemirror_mode": {
    "name": "ipython",
    "version": 3
   },
   "file_extension": ".py",
   "mimetype": "text/x-python",
   "name": "python",
   "nbconvert_exporter": "python",
   "pygments_lexer": "ipython3",
   "version": "3.12.2"
  }
 },
 "nbformat": 4,
 "nbformat_minor": 5
}
