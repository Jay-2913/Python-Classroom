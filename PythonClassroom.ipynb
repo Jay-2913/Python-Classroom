{
 "cells": [
  {
   "cell_type": "markdown",
   "id": "500943a9-21f0-4277-8644-564c29285fae",
   "metadata": {},
   "source": [
    "# Calling a function"
   ]
  },
  {
   "cell_type": "code",
   "execution_count": 8,
   "id": "c661f1ac-e696-40b8-bcb3-7cd79ed4e392",
   "metadata": {},
   "outputs": [],
   "source": [
    "def greet(name):\n",
    "\n",
    "    \"\"\"Greets a person by their name.\"\"\"\n",
    "    return f\"Hello, {name}!\""
   ]
  },
  {
   "cell_type": "code",
   "execution_count": 9,
   "id": "0850873e-2c12-49fc-a99d-fdbc765efcb7",
   "metadata": {},
   "outputs": [
    {
     "name": "stdout",
     "output_type": "stream",
     "text": [
      "Hello, Alice!\n"
     ]
    }
   ],
   "source": [
    "message = greet(\"Alice\")\n",
    "print(message)  # Output: Hello, Alice!"
   ]
  },
  {
   "cell_type": "markdown",
   "id": "d14618e7-edc5-4c8a-88a7-d9c04059bc79",
   "metadata": {},
   "source": [
    "## Functions 'First-Class Citizen'"
   ]
  },
  {
   "cell_type": "code",
   "execution_count": 2,
   "id": "bc014e93-1f14-4ed7-9dbd-2b4363fe3b88",
   "metadata": {},
   "outputs": [
    {
     "name": "stdout",
     "output_type": "stream",
     "text": [
      "[2, 4]\n"
     ]
    }
   ],
   "source": [
    "even_numbers = filter(lambda x: x % 2 == 0, numbers)\n",
    "print(list(even_numbers))"
   ]
  },
  {
   "cell_type": "code",
   "execution_count": 1,
   "id": "5adf9f1e-b981-4929-92e6-90be5c9e0453",
   "metadata": {},
   "outputs": [],
   "source": [
    "def double(x):\n",
    "\n",
    "    return x * 2\n",
    "\n",
    "\n",
    "def triple(x):\n",
    "    return x * 3\n",
    "\n",
    "\n",
    "def apply_operation(func, number):\n",
    "    return func(number)\n",
    "\n"
   ]
  },
  {
   "cell_type": "code",
   "execution_count": 2,
   "id": "7f41f64d-4518-4fb3-b89b-35568e910858",
   "metadata": {},
   "outputs": [
    {
     "name": "stdout",
     "output_type": "stream",
     "text": [
      "10\n",
      "15\n"
     ]
    }
   ],
   "source": [
    "print(apply_operation(double, 5))  # Output: 10\n",
    "print(apply_operation(triple, 5))  # Output: 15"
   ]
  },
  {
   "cell_type": "code",
   "execution_count": 3,
   "id": "1996a786-620f-41db-b50d-38b667b59dbe",
   "metadata": {},
   "outputs": [],
   "source": [
    "def print_numbers(*args):\n",
    "\n",
    "    \"\"\"Prints each number passed as an argument.\"\"\"\n",
    "    for number in args:\n",
    "        print(number)"
   ]
  },
  {
   "cell_type": "markdown",
   "id": "5df5c820-4473-4b75-90c0-3cd6b592b95b",
   "metadata": {},
   "source": [
    "## \"Calling the function with multiple arguments \""
   ]
  },
  {
   "cell_type": "markdown",
   "id": "a5799dc7-53c8-4cba-b36d-5dec7dd8697b",
   "metadata": {},
   "source": [
    "print_numbers(1, 2, 3, 4, 5)"
   ]
  },
  {
   "cell_type": "markdown",
   "id": "16a9ad48-212a-4aee-886b-8ad94f0f5ab8",
   "metadata": {},
   "source": [
    "## \"Lambda Function\""
   ]
  },
  {
   "cell_type": "code",
   "execution_count": 5,
   "id": "4ce917dd-ad2c-498a-8378-a965ff9d8cfe",
   "metadata": {},
   "outputs": [
    {
     "name": "stdout",
     "output_type": "stream",
     "text": [
      "8\n"
     ]
    }
   ],
   "source": [
    "# Lambda function to add two numbers\n",
    "\n",
    "add = lambda a, b: a + b\n",
    "print(add(3, 5))  # Output: 8"
   ]
  },
  {
   "cell_type": "code",
   "execution_count": 6,
   "id": "eba7b152-d79a-48cf-b3b2-7430fcddc21d",
   "metadata": {},
   "outputs": [
    {
     "name": "stdout",
     "output_type": "stream",
     "text": [
      "[1, 4, 9, 16]\n"
     ]
    }
   ],
   "source": [
    "numbers = [1, 2, 3, 4]\n",
    "squared = map(lambda x: x * x, numbers)\n",
    "print(list(squared))  # Output: [1, 4, 9, 16]"
   ]
  },
  {
   "cell_type": "code",
   "execution_count": 7,
   "id": "86fa412e-9d05-471a-a129-68f715291263",
   "metadata": {},
   "outputs": [
    {
     "name": "stdout",
     "output_type": "stream",
     "text": [
      "[2, 4]\n"
     ]
    }
   ],
   "source": [
    "even_numbers = filter(lambda x: x % 2 == 0, numbers)\n",
    "print(list(even_numbers))  # Output: [2, 4]"
   ]
  },
  {
   "cell_type": "markdown",
   "id": "796880b3-eebe-4dc0-9fa3-7721ab614635",
   "metadata": {},
   "source": [
    "### Using filter to get only even numbers from a list\n"
   ]
  },
  {
   "cell_type": "code",
   "execution_count": 10,
   "id": "964ff558-fd06-420c-a9ec-76804478fc85",
   "metadata": {},
   "outputs": [
    {
     "name": "stdout",
     "output_type": "stream",
     "text": [
      "[1, 4, 9, 16, 25]\n"
     ]
    }
   ],
   "source": [
    "numbers = [1, 2, 3, 4, 5]\n",
    "squared = map(lambda x: x * x, numbers)\n",
    "print(list(squared))  # Output: [1, 4, 9, 16, 25]"
   ]
  },
  {
   "cell_type": "code",
   "execution_count": 11,
   "id": "829e3a0b-60b9-440e-9e08-df480ed69cba",
   "metadata": {},
   "outputs": [
    {
     "name": "stdout",
     "output_type": "stream",
     "text": [
      "[2, 4]\n"
     ]
    }
   ],
   "source": [
    "even_numbers = filter(lambda x: x % 2 == 0, numbers)\n",
    "print(list(even_numbers))"
   ]
  },
  {
   "cell_type": "markdown",
   "id": "d84923cc-d1d7-48a8-afd9-0f170ebae2a4",
   "metadata": {},
   "source": [
    "### Selecting and executing a function from the dictionary"
   ]
  },
  {
   "cell_type": "code",
   "execution_count": 18,
   "id": "4c03c2db-4b5b-4d78-a3e7-47e260ef8c69",
   "metadata": {},
   "outputs": [],
   "source": [
    "def add(a, b):\n",
    "\n",
    "    return a + b\n",
    "\n",
    "\n",
    "def subtract(a, b):\n",
    "    return a - b\n",
    "\n",
    "\n",
    "operations = {\n",
    "    \"add\": add,\n",
    "    \"subtract\": subtract\n",
    "}\n",
    "\n"
   ]
  }
 ],
 "metadata": {
  "kernelspec": {
   "display_name": "Python 3 (ipykernel)",
   "language": "python",
   "name": "python3"
  },
  "language_info": {
   "codemirror_mode": {
    "name": "ipython",
    "version": 3
   },
   "file_extension": ".py",
   "mimetype": "text/x-python",
   "name": "python",
   "nbconvert_exporter": "python",
   "pygments_lexer": "ipython3",
   "version": "3.12.2"
  }
 },
 "nbformat": 4,
 "nbformat_minor": 5
}
