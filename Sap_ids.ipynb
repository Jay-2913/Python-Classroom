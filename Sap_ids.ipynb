{
 "cells": [
  {
   "cell_type": "code",
   "execution_count": 1,
   "id": "2951e546-796d-4f31-8eec-94ea842c5a63",
   "metadata": {},
   "outputs": [],
   "source": [
    "# Write a program that takes 0\n",
    "# List of sap ids and returns a list of email addresses\n",
    "\n",
    "#input\n",
    "list = [123,\"234\"]\n",
    "\n",
    "#output\n",
    "res = [\"123@stu.upes.ac.in\",\"234@stu.upes.ac.in\"]\n",
    "\n",
    "# 1 Without using map. filter lambda or list comrehension\n",
    "# 2 Using map. Lambda without using list comprehension\n",
    "# 3 Using list comprehension"
   ]
  },
  {
   "cell_type": "code",
   "execution_count": 2,
   "id": "ea560c64-1ae7-4801-ab50-4db0275154dd",
   "metadata": {},
   "outputs": [
    {
     "name": "stdout",
     "output_type": "stream",
     "text": [
      "['123@stu.upes.ac.in', '234@stu.upes.ac.in']\n"
     ]
    }
   ],
   "source": [
    "def generate_email_addresses(sap_ids):\n",
    "    emails = []\n",
    "    for sap_id in sap_ids:\n",
    "        emails.append(f\"(sap_id)@stu.upes.ac.in\")\n",
    "        return emails\n",
    "\n",
    "    sap_ids = [590018688,123456789]\n",
    "    resykt = generate_emai_addresses(sap_ids)\n",
    "print(res)"
   ]
  },
  {
   "cell_type": "code",
   "execution_count": null,
   "id": "78381904-9cd1-4a6b-b077-6becfebc1141",
   "metadata": {},
   "outputs": [],
   "source": [
    "def generate_email_addresses(sap_ids"
   ]
  }
 ],
 "metadata": {
  "kernelspec": {
   "display_name": "Python 3 (ipykernel)",
   "language": "python",
   "name": "python3"
  },
  "language_info": {
   "codemirror_mode": {
    "name": "ipython",
    "version": 3
   },
   "file_extension": ".py",
   "mimetype": "text/x-python",
   "name": "python",
   "nbconvert_exporter": "python",
   "pygments_lexer": "ipython3",
   "version": "3.12.2"
  }
 },
 "nbformat": 4,
 "nbformat_minor": 5
}
