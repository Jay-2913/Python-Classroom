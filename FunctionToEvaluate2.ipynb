{
 "cells": [
  {
   "cell_type": "code",
   "execution_count": 28,
   "id": "5cc9d948-0482-42b5-ab35-d5269df49578",
   "metadata": {},
   "outputs": [
    {
     "name": "stdout",
     "output_type": "stream",
     "text": [
      "Execution time for n = 1000000 is 0.081512451171875 seconds\n"
     ]
    }
   ],
   "source": [
    "import time\n",
    "\n",
    "nList = [1234765, 3322546, 6573738, 173329892, 30]  \n",
    "n = 1000000\n",
    "\n",
    "def testfn(n):\n",
    "    for i in range(0, n): \n",
    "        res = i * 10 \n",
    "def wrapper(func, *args, **kwargs):\n",
    "    def wrapped(*args, **kwargs):\n",
    "        start_time = time.time()  \n",
    "        func(*args, **kwargs)    \n",
    "        end_time = time.time()   \n",
    "        diff = (end_time - start_time)  \n",
    "        print(f\"Execution time for n = {n} is {diff} seconds\")\n",
    "    return wrapped\n",
    "\n",
    "# Wrap the test function\n",
    "newWrappedFn = wrapper(testfn, n)\n",
    "newWrappedFn(n)"
   ]
  },
  {
   "cell_type": "code",
   "execution_count": null,
   "id": "6e2a6fa2-623b-40a3-a1c8-f6b02489ba97",
   "metadata": {},
   "outputs": [],
   "source": []
  }
 ],
 "metadata": {
  "kernelspec": {
   "display_name": "Python 3 (ipykernel)",
   "language": "python",
   "name": "python3"
  },
  "language_info": {
   "codemirror_mode": {
    "name": "ipython",
    "version": 3
   },
   "file_extension": ".py",
   "mimetype": "text/x-python",
   "name": "python",
   "nbconvert_exporter": "python",
   "pygments_lexer": "ipython3",
   "version": "3.12.2"
  }
 },
 "nbformat": 4,
 "nbformat_minor": 5
}
