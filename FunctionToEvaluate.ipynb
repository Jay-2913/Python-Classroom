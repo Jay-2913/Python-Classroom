{
 "cells": [
  {
   "cell_type": "markdown",
   "id": "b5147f45-0247-464f-a8b3-256abb0108d8",
   "metadata": {},
   "source": [
    "Write a function to evaluate expression \"res = i * 10\" for all values between to n, function is taking one input argument \"n\""
   ]
  },
  {
   "cell_type": "code",
   "execution_count": 6,
   "id": "0e3c900d-b16c-4ab5-9f8c-f0d4ccd4d642",
   "metadata": {},
   "outputs": [
    {
     "name": "stdout",
     "output_type": "stream",
     "text": [
      "execution time for n = 1000 is \n",
      " 0.0 sec\n"
     ]
    }
   ],
   "source": [
    "import time\n",
    "nList = [123213, 234, 23444444, 100000000]\n",
    "# n = 1000\n",
    "def testfn(n):\n",
    "    for i in range(0,n):\n",
    "        res = i * 10\n",
    "\n",
    "\n",
    "start_time = time.time() * 1000\n",
    "testfn(n)\n",
    "\n",
    "end_time = time.time() * 1000\n",
    "diff = end_time - start_time\n",
    "\n",
    "print(f\"execution time for n = {n} is \\n {diff} sec\")"
   ]
  },
  {
   "cell_type": "code",
   "execution_count": null,
   "id": "1316afec-bdfa-476d-b971-f6f968775912",
   "metadata": {},
   "outputs": [],
   "source": []
  }
 ],
 "metadata": {
  "kernelspec": {
   "display_name": "Python 3 (ipykernel)",
   "language": "python",
   "name": "python3"
  },
  "language_info": {
   "codemirror_mode": {
    "name": "ipython",
    "version": 3
   },
   "file_extension": ".py",
   "mimetype": "text/x-python",
   "name": "python",
   "nbconvert_exporter": "python",
   "pygments_lexer": "ipython3",
   "version": "3.12.2"
  }
 },
 "nbformat": 4,
 "nbformat_minor": 5
}
